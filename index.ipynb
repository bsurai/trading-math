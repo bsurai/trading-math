{
 "cells": [
  {
   "cell_type": "code",
   "execution_count": 45,
   "metadata": {},
   "outputs": [],
   "source": [
    "class Risk_Estimaiton:\n",
    "    def __init__(self):\n",
    "        return\n",
    "\n",
    "    def calc_result(self, profit, losses):\n",
    "        return round((1 + profit/100) * (1 - losses/100)*100 - 100, 2)\n",
    "\n",
    "    def calc_profit(self, result, losses):\n",
    "        return round((100 + result) / (1 - losses/100) - 100, 2)\n",
    "\n",
    "    def calc_losses(self, result, profit):\n",
    "        return round(100 - (100 + result) / (1 + profit/100), 2)\n",
    "    \n",
    "    def calc_recommended_ratio(self, profit):\n",
    "        return round((100 + profit) / 100, 1) + 1\n",
    "    \n",
    "    def calc_recommended_losses(self, profit):\n",
    "        return round(profit / self.calc_recommended_ratio(profit), 1)\n",
    "    \n",
    "    def calc_recommended_stop(self, price, target):\n",
    "        profit = 100 * (target - price)/price\n",
    "        recommended_losses = self.calc_recommended_losses(profit)\n",
    "        recommended_stop = round(price * (1 - recommended_losses/100), 2)\n",
    "\n",
    "        stat = {\n",
    "            'stop': recommended_stop,\n",
    "            'profit': round(profit, 2),\n",
    "            'losses': round(recommended_losses, 2),\n",
    "        }\n",
    "        return recommended_stop, stat\n",
    "    "
   ]
  },
  {
   "cell_type": "code",
   "execution_count": 49,
   "metadata": {},
   "outputs": [
    {
     "name": "stdout",
     "output_type": "stream",
     "text": [
      "Target profit = 22.1 %\n",
      "Рекомендований Стоп: 88.45 $\n",
      "Очікуваний результат: 9.89 %\n"
     ]
    }
   ],
   "source": [
    "est = Risk_Estimaiton()\n",
    "recommended_stop, stat = est.calc_recommended_stop(price=98.28, target=120)\n",
    "estimated_result = est.calc_result(profit=stat['profit'], losses=stat['losses'])\n",
    "#min_required_profit = est.calc_profit(losses=20, result=10)\n",
    "#max_allowable_losses = est.calc_losses(profit=10, result=7)\n",
    "\n",
    "print('Target profit =', stat['profit'], '%')\n",
    "print(\"Рекомендований Стоп:\", recommended_stop, \"$\")\n",
    "print(\"Очікуваний результат:\", estimated_result, \"%\")\n",
    "#print(\"Мінімальна очікувана дохідність:\", min_required_profit, \"%\")\n",
    "#print(\"Максимальні допустимі збитки:\", max_allowable_losses, \"%\")"
   ]
  },
  {
   "cell_type": "code",
   "execution_count": 38,
   "metadata": {},
   "outputs": [
    {
     "name": "stdout",
     "output_type": "stream",
     "text": [
      "    Profit  Losses     Ratio  Recommended_Ratio  Recommended_Losses\n",
      "0        1     1.0  1.000000                2.0                 0.5\n",
      "1        6     6.0  1.000000                2.1                 2.9\n",
      "2       11    10.0  1.100000                2.1                 5.2\n",
      "3       16    14.0  1.142857                2.2                 7.3\n",
      "4       21    17.0  1.235294                2.2                 9.5\n",
      "5       26    21.0  1.238095                2.3                11.3\n",
      "6       31    24.0  1.291667                2.3                13.5\n",
      "7       36    26.0  1.384615                2.4                15.0\n",
      "8       41    29.0  1.413793                2.4                17.1\n",
      "9       46    32.0  1.437500                2.5                18.4\n",
      "10      51    34.0  1.500000                2.5                20.4\n",
      "11      56    36.0  1.555556                2.6                21.5\n",
      "12      61    38.0  1.605263                2.6                23.5\n",
      "13      66    40.0  1.650000                2.7                24.4\n",
      "14      71    42.0  1.690476                2.7                26.3\n",
      "15      76    43.0  1.767442                2.8                27.1\n",
      "16      81    45.0  1.800000                2.8                28.9\n",
      "17      86    46.0  1.869565                2.9                29.7\n",
      "18      91    48.0  1.895833                2.9                31.4\n",
      "19      96    49.0  1.959184                3.0                32.0\n"
     ]
    }
   ],
   "source": [
    "import numpy as np\n",
    "import pandas as pd\n",
    "\n",
    "array = np.arange(1, 100, 5)\n",
    "df = pd.DataFrame(array, columns=['Profit'])\n",
    "df['Losses'] = round(est.calc_losses(profit = df['Profit'], result = 0 ))\n",
    "df['Ratio'] = df['Profit'] / df['Losses']\n",
    "df['Recommended_Ratio'] = est.calc_recommended_ratio(profit = df['Profit'])\n",
    "df['Recommended_Losses'] = est.calc_recommended_losses(profit = df['Profit'])\n",
    "print(df)\n"
   ]
  }
 ],
 "metadata": {
  "kernelspec": {
   "display_name": "Python 3",
   "language": "python",
   "name": "python3"
  },
  "language_info": {
   "codemirror_mode": {
    "name": "ipython",
    "version": 3
   },
   "file_extension": ".py",
   "mimetype": "text/x-python",
   "name": "python",
   "nbconvert_exporter": "python",
   "pygments_lexer": "ipython3",
   "version": "3.10.12"
  }
 },
 "nbformat": 4,
 "nbformat_minor": 2
}
